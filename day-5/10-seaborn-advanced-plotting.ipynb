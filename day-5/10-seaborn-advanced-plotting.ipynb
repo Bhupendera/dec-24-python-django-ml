{
 "cells": [
  {
   "cell_type": "markdown",
   "id": "3d61c5ed",
   "metadata": {
    "lines_to_next_cell": 0
   },
   "source": [
    "# Subplots and Advanced Plotting using Seaborn\n",
    "\n",
    "## Introduction to Seaborn\n",
    "Seaborn is a powerful Python library built on top of Matplotlib that simplifies the creation of complex visualizations. It integrates well with Pandas and offers additional functionality\n",
    "\n",
    "### Importing Seaborn:"
   ]
  },
  {
   "cell_type": "code",
   "execution_count": null,
   "id": "a72f3212",
   "metadata": {},
   "outputs": [],
   "source": [
    "import seaborn as sns\n",
    "import matplotlib.pyplot as plt\n",
    "import pandas as pd\n",
    "import numpy as np"
   ]
  },
  {
   "cell_type": "markdown",
   "id": "387c3836",
   "metadata": {
    "lines_to_next_cell": 0
   },
   "source": [
    "---\n",
    "\n",
    "## Creating Subplots and Multiple Plots on the Same Graph\n",
    "\n",
    "### Subplots Using Seaborn and Matplotlib\n",
    "Subplots allow you to visualize multiple plots within a single figure.\n",
    "\n",
    "#### Example 1: Pairwise Scatter Plots (Using Iris Dataset)"
   ]
  },
  {
   "cell_type": "code",
   "execution_count": null,
   "id": "8b60f621",
   "metadata": {},
   "outputs": [],
   "source": [
    "from sklearn.datasets import load_iris\n",
    "\n",
    "# Load Iris dataset\n",
    "iris = load_iris()\n",
    "iris_df = pd.DataFrame(iris.data, columns=iris.feature_names)\n",
    "iris_df['species'] = iris.target\n",
    "\n",
    "# Pair plot\n",
    "sns.pairplot(iris_df, hue='species', diag_kind='hist', palette='viridis')\n",
    "plt.show()"
   ]
  },
  {
   "cell_type": "markdown",
   "id": "9467cd54",
   "metadata": {
    "lines_to_next_cell": 0
   },
   "source": [
    "#### Example 2: Subplots for Survival Analysis (Titanic Dataset)"
   ]
  },
  {
   "cell_type": "code",
   "execution_count": null,
   "id": "c1b38985",
   "metadata": {},
   "outputs": [],
   "source": [
    "# Load Titanic dataset\n",
    "url = \"https://raw.githubusercontent.com/datasciencedojo/datasets/master/titanic.csv\"\n",
    "data = pd.read_csv(url)\n",
    "\n",
    "# Create subplots\n",
    "fig, axes = plt.subplots(1, 2, figsize=(12, 6))\n",
    "\n",
    "# Plot 1: Survival by Gender\n",
    "sns.countplot(x='Sex', hue='Survived', data=data, ax=axes[0], palette='Set2')\n",
    "axes[0].set_title(\"Survival by Gender\")\n",
    "axes[0].set_xlabel(\"Gender\")\n",
    "axes[0].set_ylabel(\"Count\")\n",
    "\n",
    "# Plot 2: Survival by Class\n",
    "sns.countplot(x='Pclass', hue='Survived', data=data, ax=axes[1], palette='muted')\n",
    "axes[1].set_title(\"Survival by Passenger Class\")\n",
    "axes[1].set_xlabel(\"Passenger Class\")\n",
    "axes[1].set_ylabel(\"Count\")\n",
    "\n",
    "plt.tight_layout()\n",
    "plt.show()"
   ]
  },
  {
   "cell_type": "markdown",
   "id": "52a052c7",
   "metadata": {
    "lines_to_next_cell": 0
   },
   "source": [
    "---\n",
    "\n",
    "### Advanced Multi-Plot Layouts Using `sns.FacetGrid`\n",
    "`FacetGrid` allows you to create a grid of plots based on categorical variables.\n",
    "\n",
    "#### Example: Grid of Plots by Gender"
   ]
  },
  {
   "cell_type": "code",
   "execution_count": null,
   "id": "4867d412",
   "metadata": {},
   "outputs": [],
   "source": [
    "# FacetGrid example\n",
    "facet = sns.FacetGrid(data, col=\"Sex\", hue=\"Survived\", height=5, palette='coolwarm')\n",
    "facet.map(plt.hist, \"Age\", bins=20, alpha=0.7)\n",
    "facet.add_legend()\n",
    "plt.show()"
   ]
  },
  {
   "cell_type": "markdown",
   "id": "2f64ab3a",
   "metadata": {
    "lines_to_next_cell": 0
   },
   "source": [
    "#### Example: Scatter Plot Grid by Species (Using Iris Dataset)"
   ]
  },
  {
   "cell_type": "code",
   "execution_count": null,
   "id": "462a4eb0",
   "metadata": {},
   "outputs": [],
   "source": [
    "# FacetGrid with scatter plots\n",
    "facet = sns.FacetGrid(iris_df, col=\"species\", height=5, aspect=1)\n",
    "facet.map(sns.scatterplot, \"sepal length (cm)\", \"sepal width (cm)\", alpha=0.8)\n",
    "facet.set_axis_labels(\"Sepal Length\", \"Sepal Width\")\n",
    "plt.show()"
   ]
  },
  {
   "cell_type": "markdown",
   "id": "ce8fe7f6",
   "metadata": {
    "lines_to_next_cell": 0
   },
   "source": [
    "---\n",
    "\n",
    "## Hands-On: Design Advanced Multi-Plot Layouts\n",
    "\n",
    "### Task 1: Titanic Dataset\n",
    "Create a grid of plots showing the distribution of fare prices for different passenger classes and survival status.\n",
    "\n",
    "#### Starter Code:"
   ]
  },
  {
   "cell_type": "code",
   "execution_count": null,
   "id": "e1786a50",
   "metadata": {},
   "outputs": [],
   "source": [
    "# FacetGrid: Fare distribution by class and survival\n",
    "facet = sns.FacetGrid(data, col=\"Pclass\", hue=\"Survived\", height=4, aspect=1.5, palette='Set1')\n",
    "facet.map(sns.kdeplot, \"Fare\", fill=True, alpha=0.5)\n",
    "facet.add_legend()\n",
    "plt.show()"
   ]
  },
  {
   "cell_type": "markdown",
   "id": "0d26fe3c",
   "metadata": {
    "lines_to_next_cell": 0
   },
   "source": [
    "### Task 2: Iris Dataset\n",
    "Create a multi-plot layout showing scatter plots of petal dimensions for each species, and add regression lines.\n",
    "\n",
    "#### Starter Code:"
   ]
  },
  {
   "cell_type": "code",
   "execution_count": null,
   "id": "052a4ccf",
   "metadata": {},
   "outputs": [],
   "source": [
    "# PairGrid with regression lines\n",
    "pair_grid = sns.PairGrid(iris_df, hue=\"species\", palette=\"coolwarm\")\n",
    "pair_grid.map_upper(sns.scatterplot)\n",
    "pair_grid.map_lower(sns.kdeplot, fill=True, alpha=0.5)\n",
    "pair_grid.map_diag(sns.histplot, kde=True)\n",
    "pair_grid.add_legend()\n",
    "plt.show()"
   ]
  },
  {
   "cell_type": "markdown",
   "id": "7acdc1d1",
   "metadata": {
    "lines_to_next_cell": 0
   },
   "source": [
    "### Task 3: Titanic Dataset - Age Distribution by Embarked Port\n",
    "Visualize the age distribution of passengers based on their embarked port."
   ]
  },
  {
   "cell_type": "code",
   "execution_count": null,
   "id": "cb5ff755",
   "metadata": {},
   "outputs": [],
   "source": [
    "sns.boxplot(x=\"Embarked\", y=\"Age\", data=data, palette=\"pastel\")\n",
    "plt.title(\"Age Distribution by Embarked Port\")\n",
    "plt.xlabel(\"Embarked Port\")\n",
    "plt.ylabel(\"Age\")\n",
    "plt.show()"
   ]
  },
  {
   "cell_type": "markdown",
   "id": "7519c81a",
   "metadata": {
    "lines_to_next_cell": 0
   },
   "source": [
    "### Task 4: Titanic Dataset - Heatmap of Survival Rates by Gender and Class\n",
    "Create a heatmap to show survival rates based on gender and passenger class."
   ]
  },
  {
   "cell_type": "code",
   "execution_count": null,
   "id": "d8c5b5f2",
   "metadata": {},
   "outputs": [],
   "source": [
    "pivot_data = data.pivot_table(index=\"Pclass\", columns=\"Sex\", values=\"Survived\", aggfunc=\"mean\")\n",
    "sns.heatmap(pivot_data, annot=True, cmap=\"coolwarm\", fmt=\".2f\")\n",
    "plt.title(\"Survival Rates by Gender and Class\")\n",
    "plt.show()"
   ]
  },
  {
   "cell_type": "markdown",
   "id": "a6318e4f",
   "metadata": {
    "lines_to_next_cell": 0
   },
   "source": [
    "### Task 5: Titanic Dataset - Pairwise Relationships for Numerical Features\n",
    "Explore pairwise relationships between numerical features such as Age, Fare, and Pclass."
   ]
  },
  {
   "cell_type": "code",
   "execution_count": null,
   "id": "0d0a173d",
   "metadata": {},
   "outputs": [],
   "source": [
    "sns.pairplot(data, vars=[\"Age\", \"Fare\", \"Pclass\"], hue=\"Survived\", palette=\"husl\")\n",
    "plt.show()"
   ]
  },
  {
   "cell_type": "markdown",
   "id": "a79a3678",
   "metadata": {
    "lines_to_next_cell": 0
   },
   "source": [
    "### Task 6: Iris Dataset - Violin Plot of Petal Width by Species\n",
    "Visualize the distribution of petal width for each species using a violin plot."
   ]
  },
  {
   "cell_type": "code",
   "execution_count": null,
   "id": "f34aa649",
   "metadata": {},
   "outputs": [],
   "source": [
    "sns.violinplot(x=\"species\", y=\"petal width (cm)\", data=iris_df, palette=\"muted\")\n",
    "plt.title(\"Petal Width Distribution by Species\")\n",
    "plt.xlabel(\"Species\")\n",
    "plt.ylabel(\"Petal Width\")\n",
    "plt.show()"
   ]
  },
  {
   "cell_type": "markdown",
   "id": "0115628d",
   "metadata": {
    "lines_to_next_cell": 0
   },
   "source": [
    "### Task 7: Titanic Dataset - Bar Plot of Fare by Class\n",
    "Visualize the average fare for each passenger class."
   ]
  },
  {
   "cell_type": "code",
   "execution_count": null,
   "id": "1aede2c6",
   "metadata": {},
   "outputs": [],
   "source": [
    "sns.barplot(x=\"Pclass\", y=\"Fare\", data=data, palette=\"Blues_d\")\n",
    "plt.title(\"Average Fare by Class\")\n",
    "plt.xlabel(\"Passenger Class\")\n",
    "plt.ylabel(\"Average Fare\")\n",
    "plt.show()"
   ]
  },
  {
   "cell_type": "markdown",
   "id": "a76fefeb",
   "metadata": {
    "lines_to_next_cell": 0
   },
   "source": [
    "### Task 8: Iris Dataset - Joint Plot of Sepal Dimensions\n",
    "Create a joint plot of sepal length and sepal width with regression lines."
   ]
  },
  {
   "cell_type": "code",
   "execution_count": null,
   "id": "963e7cba",
   "metadata": {},
   "outputs": [],
   "source": [
    "sns.jointplot(x=\"sepal length (cm)\", y=\"sepal width (cm)\", data=iris_df, kind=\"reg\", color=\"g\")\n",
    "plt.show()"
   ]
  },
  {
   "cell_type": "markdown",
   "id": "37c37441",
   "metadata": {
    "lines_to_next_cell": 0
   },
   "source": [
    "### Task 9: Titanic Dataset - Count Plot of Passengers by Embarked Port\n",
    "Show the count of passengers based on the embarked port."
   ]
  },
  {
   "cell_type": "code",
   "execution_count": null,
   "id": "68c1d36e",
   "metadata": {},
   "outputs": [],
   "source": [
    "sns.countplot(x=\"Embarked\", data=data, palette=\"Accent\")\n",
    "plt.title(\"Passenger Count by Embarked Port\")\n",
    "plt.xlabel(\"Embarked Port\")\n",
    "plt.ylabel(\"Count\")\n",
    "plt.show()"
   ]
  },
  {
   "cell_type": "markdown",
   "id": "98f5249f",
   "metadata": {
    "lines_to_next_cell": 0
   },
   "source": [
    "### Task 10: Iris Dataset - Heatmap of Feature Correlation\n",
    "Generate a heatmap showing the correlation between features in the Iris dataset."
   ]
  },
  {
   "cell_type": "code",
   "execution_count": null,
   "id": "363a63b4",
   "metadata": {},
   "outputs": [],
   "source": [
    "correlation = iris_df.drop(columns=[\"species\"]).corr()\n",
    "sns.heatmap(correlation, annot=True, cmap=\"coolwarm\")\n",
    "plt.title(\"Feature Correlation in Iris Dataset\")\n",
    "plt.show()"
   ]
  },
  {
   "cell_type": "markdown",
   "id": "7f18bfd0",
   "metadata": {},
   "source": [
    "---"
   ]
  }
 ],
 "metadata": {
  "jupytext": {
   "cell_metadata_filter": "-all",
   "main_language": "python",
   "notebook_metadata_filter": "-all"
  }
 },
 "nbformat": 4,
 "nbformat_minor": 5
}
