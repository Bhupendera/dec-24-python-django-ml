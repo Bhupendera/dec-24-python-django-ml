{
 "cells": [
  {
   "cell_type": "markdown",
   "id": "6198d7f1",
   "metadata": {
    "lines_to_next_cell": 0
   },
   "source": [
    "# Customizing Plots\n",
    "\n",
    "## Adding Titles, Labels, Legends, and Annotations\n",
    "\n",
    "### Titles and Labels\n",
    "Titles and labels make your plots more understandable by providing context.\n",
    "\n",
    "#### Example (Using Titanic Dataset):"
   ]
  },
  {
   "cell_type": "code",
   "execution_count": null,
   "id": "21ac1106",
   "metadata": {},
   "outputs": [],
   "source": [
    "import pandas as pd\n",
    "import matplotlib.pyplot as plt\n",
    "import seaborn as sns\n",
    "\n",
    "# Load Titanic dataset\n",
    "url = \"https://raw.githubusercontent.com/datasciencedojo/datasets/master/titanic.csv\"\n",
    "data = pd.read_csv(url)\n",
    "\n",
    "# Survival by class\n",
    "sns.countplot(x='Pclass', hue='Survived', data=data)\n",
    "plt.title(\"Survival by Passenger Class\")\n",
    "plt.xlabel(\"Passenger Class\")\n",
    "plt.ylabel(\"Count\")\n",
    "plt.show()"
   ]
  },
  {
   "cell_type": "markdown",
   "id": "d3017b5d",
   "metadata": {
    "lines_to_next_cell": 0
   },
   "source": [
    "### Legends\n",
    "Legends explain the meaning of different elements in your plot.\n",
    "\n",
    "#### Example:"
   ]
  },
  {
   "cell_type": "code",
   "execution_count": null,
   "id": "9f9bf44a",
   "metadata": {},
   "outputs": [],
   "source": [
    "# Adding a legend\n",
    "plt.bar(['A', 'B', 'C'], [10, 20, 15], label='Category A', color='skyblue')\n",
    "plt.bar(['A', 'B', 'C'], [5, 15, 10], label='Category B', color='orange', bottom=[10, 20, 15])\n",
    "plt.title(\"Stacked Bar Chart Example\")\n",
    "plt.xlabel(\"Categories\")\n",
    "plt.ylabel(\"Values\")\n",
    "plt.legend()\n",
    "plt.show()"
   ]
  },
  {
   "cell_type": "markdown",
   "id": "b3190ff8",
   "metadata": {
    "lines_to_next_cell": 0
   },
   "source": [
    "### Annotations\n",
    "Annotations help highlight specific points or trends.\n",
    "\n",
    "#### Example:"
   ]
  },
  {
   "cell_type": "code",
   "execution_count": null,
   "id": "d14d66ac",
   "metadata": {},
   "outputs": [],
   "source": [
    "# Annotate the highest value\n",
    "values = [10, 20, 15]\n",
    "labels = ['A', 'B', 'C']\n",
    "plt.bar(labels, values, color='purple')\n",
    "plt.title(\"Annotated Bar Chart\")\n",
    "plt.xlabel(\"Categories\")\n",
    "plt.ylabel(\"Values\")\n",
    "\n",
    "# Annotate the maximum value\n",
    "max_value = max(values)\n",
    "max_index = values.index(max_value)\n",
    "plt.annotate(f\"Max: {max_value}\", xy=(labels[max_index], max_value), xytext=(0, 5),\n",
    "             textcoords='offset points', ha='center', color='red')\n",
    "plt.show()"
   ]
  },
  {
   "cell_type": "markdown",
   "id": "35a5e7c4",
   "metadata": {
    "lines_to_next_cell": 0
   },
   "source": [
    "---\n",
    "\n",
    "## Customizing Colors, Line Styles, and Markers\n",
    "\n",
    "### Colors\n",
    "Customizing colors makes plots more engaging.\n",
    "\n",
    "#### Example (Using Iris Dataset):"
   ]
  },
  {
   "cell_type": "code",
   "execution_count": null,
   "id": "386902fc",
   "metadata": {},
   "outputs": [],
   "source": [
    "from sklearn.datasets import load_iris\n",
    "\n",
    "# Load Iris dataset\n",
    "iris = load_iris()\n",
    "plt.scatter(iris.data[:, 0], iris.data[:, 1], c=iris.target, cmap='viridis')\n",
    "plt.title(\"Iris Dataset: Sepal Dimensions\")\n",
    "plt.xlabel(\"Sepal Length\")\n",
    "plt.ylabel(\"Sepal Width\")\n",
    "plt.colorbar(label='Species')\n",
    "plt.show()"
   ]
  },
  {
   "cell_type": "markdown",
   "id": "805fbfc5",
   "metadata": {
    "lines_to_next_cell": 0
   },
   "source": [
    "### Line Styles\n",
    "Change line styles for better distinction between multiple lines.\n",
    "\n",
    "#### Example:"
   ]
  },
  {
   "cell_type": "code",
   "execution_count": null,
   "id": "84c966e3",
   "metadata": {},
   "outputs": [],
   "source": [
    "# Line plot with different styles\n",
    "plt.plot([1, 2, 3], [1, 4, 9], linestyle='--', label='Dashed')\n",
    "plt.plot([1, 2, 3], [1, 2, 3], linestyle='-', label='Solid')\n",
    "plt.title(\"Line Styles Example\")\n",
    "plt.legend()\n",
    "plt.show()"
   ]
  },
  {
   "cell_type": "markdown",
   "id": "f29e937b",
   "metadata": {
    "lines_to_next_cell": 0
   },
   "source": [
    "### Markers\n",
    "Markers make individual data points more visible.\n",
    "\n",
    "#### Example:"
   ]
  },
  {
   "cell_type": "code",
   "execution_count": null,
   "id": "cd1ac1f2",
   "metadata": {},
   "outputs": [],
   "source": [
    "# Line plot with markers\n",
    "plt.plot([1, 2, 3], [1, 4, 9], marker='o', label='Circles')\n",
    "plt.plot([1, 2, 3], [1, 2, 3], marker='x', label='Crosses')\n",
    "plt.title(\"Markers Example\")\n",
    "plt.legend()\n",
    "plt.show()"
   ]
  },
  {
   "cell_type": "markdown",
   "id": "3113e045",
   "metadata": {
    "lines_to_next_cell": 0
   },
   "source": [
    "---\n",
    "\n",
    "## Hands-On: Customize Visualizations\n",
    "\n",
    "### Task 1: Titanic Dataset\n",
    "Create a stacked bar chart showing survival rates by gender. Customize the colors, add a title, labels, and a legend.\n",
    "\n",
    "#### Starter Code:"
   ]
  },
  {
   "cell_type": "code",
   "execution_count": null,
   "id": "28a87070",
   "metadata": {},
   "outputs": [],
   "source": [
    "# Load Titanic dataset\n",
    "sns.countplot(x='Sex', hue='Survived', data=data, palette='Set2')\n",
    "plt.title(\"Survival by Gender\")\n",
    "plt.xlabel(\"Gender\")\n",
    "plt.ylabel(\"Count\")\n",
    "plt.legend(title='Survived', labels=['No', 'Yes'])\n",
    "plt.show()"
   ]
  },
  {
   "cell_type": "markdown",
   "id": "61e187b0",
   "metadata": {
    "lines_to_next_cell": 0
   },
   "source": [
    "### Task 2: Iris Dataset\n",
    "Create a scatter plot with customized colors for each species. Add a title, axis labels, and a color legend.\n",
    "\n",
    "#### Starter Code:"
   ]
  },
  {
   "cell_type": "code",
   "execution_count": null,
   "id": "922a5998",
   "metadata": {},
   "outputs": [],
   "source": [
    "# Scatter plot for Iris dataset\n",
    "plt.scatter(iris.data[:, 2], iris.data[:, 3], c=iris.target, cmap='plasma')\n",
    "plt.title(\"Iris Dataset: Petal Dimensions\")\n",
    "plt.xlabel(\"Petal Length\")\n",
    "plt.ylabel(\"Petal Width\")\n",
    "plt.colorbar(label='Species')\n",
    "plt.show()"
   ]
  }
 ],
 "metadata": {
  "jupytext": {
   "cell_metadata_filter": "-all",
   "main_language": "python",
   "notebook_metadata_filter": "-all"
  }
 },
 "nbformat": 4,
 "nbformat_minor": 5
}
