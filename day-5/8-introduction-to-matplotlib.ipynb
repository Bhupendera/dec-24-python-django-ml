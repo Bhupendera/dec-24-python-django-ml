{
 "cells": [
  {
   "cell_type": "markdown",
   "id": "18766715",
   "metadata": {
    "lines_to_next_cell": 0
   },
   "source": [
    "# Introduction to Matplotlib\n",
    "\n",
    "## Overview of Matplotlib\n",
    "\n",
    "Matplotlib is a powerful Python library for creating visualizations. It is widely used for data visualization in data analysis and machine learning projects.\n",
    "\n",
    "### Key Features:\n",
    "- Extensive support for 2D plotting.\n",
    "- Customizable plots with labels, titles, legends, and more.\n",
    "\n",
    "### Common Use Cases:\n",
    "- Exploratory data analysis.\n",
    "- Visualizing trends, distributions, and relationships in datasets.\n",
    "- Communicating results effectively.\n",
    "\n",
    "---\n",
    "\n",
    "## Basic Plots in Matplotlib\n",
    "\n",
    "### 1. Line Plots\n",
    "Line plots are used to visualize data points connected by lines, often representing trends over time.\n",
    "\n",
    "#### Example:"
   ]
  },
  {
   "cell_type": "code",
   "execution_count": null,
   "id": "55cb1413",
   "metadata": {},
   "outputs": [],
   "source": [
    "import matplotlib.pyplot as plt\n",
    "\n",
    "# Sample data\n",
    "x = [1, 2, 3, 4, 5]\n",
    "y = [2, 3, 5, 7, 11]\n",
    "\n",
    "# Create line plot\n",
    "plt.plot(x, y, marker='o', linestyle='-', color='b')\n",
    "plt.title(\"Line Plot Example\")\n",
    "plt.xlabel(\"X-axis\")\n",
    "plt.ylabel(\"Y-axis\")\n",
    "plt.grid(True)\n",
    "plt.show()"
   ]
  },
  {
   "cell_type": "markdown",
   "id": "41dbc982",
   "metadata": {
    "lines_to_next_cell": 0
   },
   "source": [
    "---\n",
    "\n",
    "### 2. Bar Charts\n",
    "Bar charts are used to compare different categories.\n",
    "\n",
    "#### Example:"
   ]
  },
  {
   "cell_type": "code",
   "execution_count": null,
   "id": "0256aebb",
   "metadata": {},
   "outputs": [],
   "source": [
    "# Sample data\n",
    "categories = ['A', 'B', 'C', 'D']\n",
    "values = [10, 15, 7, 12]\n",
    "\n",
    "# Create bar chart\n",
    "plt.bar(categories, values, color='skyblue')\n",
    "plt.title(\"Bar Chart Example\")\n",
    "plt.xlabel(\"Categories\")\n",
    "plt.ylabel(\"Values\")\n",
    "plt.show()"
   ]
  },
  {
   "cell_type": "markdown",
   "id": "872aaac2",
   "metadata": {
    "lines_to_next_cell": 0
   },
   "source": [
    "---\n",
    "\n",
    "### 3. Histograms\n",
    "Histograms are used to show the distribution of a dataset.\n",
    "\n",
    "#### Example:"
   ]
  },
  {
   "cell_type": "code",
   "execution_count": null,
   "id": "7d289e61",
   "metadata": {},
   "outputs": [],
   "source": [
    "import numpy as np\n",
    "\n",
    "# Sample data\n",
    "data = np.random.normal(0, 1, 1000)  # Generate random data\n",
    "\n",
    "# Create histogram\n",
    "plt.hist(data, bins=20, color='orange', edgecolor='black')\n",
    "plt.title(\"Histogram Example\")\n",
    "plt.xlabel(\"Value\")\n",
    "plt.ylabel(\"Frequency\")\n",
    "plt.show()"
   ]
  },
  {
   "cell_type": "markdown",
   "id": "a7ba9c41",
   "metadata": {},
   "source": [
    "---\n",
    "\n",
    "## Hands-On: Create Basic Plots\n",
    "\n",
    "### Dataset for Hands-On\n",
    "We will use a small dataset of car sales over months:"
   ]
  },
  {
   "cell_type": "code",
   "execution_count": null,
   "id": "1138198a",
   "metadata": {},
   "outputs": [],
   "source": [
    "import pandas as pd\n",
    "\n",
    "# Create a sample dataset\n",
    "months = ['January', 'February', 'March', 'April', 'May', 'June']\n",
    "sales = [250, 300, 400, 350, 500, 600]\n",
    "data = pd.DataFrame({'Month': months, 'Sales': sales})\n",
    "print(data)"
   ]
  },
  {
   "cell_type": "markdown",
   "id": "42be4ec0",
   "metadata": {
    "lines_to_next_cell": 0
   },
   "source": [
    "### Task 1: Line Plot for Sales Trends"
   ]
  },
  {
   "cell_type": "code",
   "execution_count": null,
   "id": "830de35a",
   "metadata": {},
   "outputs": [],
   "source": [
    "# Line plot for sales trends\n",
    "plt.plot(data['Month'], data['Sales'], marker='o', linestyle='-', color='green')\n",
    "plt.title(\"Sales Trends\")\n",
    "plt.xlabel(\"Months\")\n",
    "plt.ylabel(\"Number of Cars Sold\")\n",
    "plt.grid(True)\n",
    "plt.show()"
   ]
  },
  {
   "cell_type": "markdown",
   "id": "9781912f",
   "metadata": {
    "lines_to_next_cell": 0
   },
   "source": [
    "### Task 2: Bar Chart for Monthly Sales"
   ]
  },
  {
   "cell_type": "code",
   "execution_count": null,
   "id": "f3c6169a",
   "metadata": {},
   "outputs": [],
   "source": [
    "# Bar chart for sales\n",
    "plt.bar(data['Month'], data['Sales'], color='purple')\n",
    "plt.title(\"Monthly Car Sales\")\n",
    "plt.xlabel(\"Months\")\n",
    "plt.ylabel(\"Number of Cars Sold\")\n",
    "plt.show()"
   ]
  },
  {
   "cell_type": "markdown",
   "id": "c7dd2e85",
   "metadata": {
    "lines_to_next_cell": 0
   },
   "source": [
    "### Task 3: Histogram of Random Data (Distribution Example)"
   ]
  },
  {
   "cell_type": "code",
   "execution_count": null,
   "id": "efdfecb4",
   "metadata": {},
   "outputs": [],
   "source": [
    "# Generate random data for histogram\n",
    "random_data = np.random.normal(loc=300, scale=50, size=100)\n",
    "\n",
    "# Create histogram\n",
    "plt.hist(random_data, bins=15, color='blue', edgecolor='black')\n",
    "plt.title(\"Random Data Distribution\")\n",
    "plt.xlabel(\"Value\")\n",
    "plt.ylabel(\"Frequency\")\n",
    "plt.show()"
   ]
  },
  {
   "cell_type": "markdown",
   "id": "dca38d42",
   "metadata": {
    "lines_to_next_cell": 0
   },
   "source": [
    "---\n",
    "\n",
    "## Sample Datasets for Exploration\n",
    "\n",
    "### 1. Titanic Dataset (Kaggle)\n",
    "The Titanic dataset is commonly used for data visualization and machine learning.\n",
    "\n",
    "#### Access:\n",
    "[Kaggle Titanic Dataset](https://www.kaggle.com/c/titanic)\n",
    "\n",
    "#### Example Use:\n",
    "Visualize the survival rate by gender:"
   ]
  },
  {
   "cell_type": "code",
   "execution_count": null,
   "id": "352d93cf",
   "metadata": {},
   "outputs": [],
   "source": [
    "import seaborn as sns\n",
    "import pandas as pd\n",
    "\n",
    "# Load Titanic dataset\n",
    "url = \"https://raw.githubusercontent.com/datasciencedojo/datasets/master/titanic.csv\"\n",
    "data = pd.read_csv(url)\n",
    "\n",
    "# Bar plot for survival by gender\n",
    "sns.countplot(x='Survived', hue='Sex', data=data)\n",
    "plt.title(\"Survival by Gender\")\n",
    "plt.show()"
   ]
  },
  {
   "cell_type": "markdown",
   "id": "0795fd6f",
   "metadata": {
    "lines_to_next_cell": 0
   },
   "source": [
    "---\n",
    "\n",
    "### 2. Iris Dataset\n",
    "The Iris dataset is a classic dataset for data visualization and machine learning.\n",
    "\n",
    "#### Access:\n",
    "Available via `sklearn` library or [UCI Machine Learning Repository](https://archive.ics.uci.edu/ml/datasets/iris).\n",
    "\n",
    "#### Example Use:\n",
    "Scatter plot of sepal length vs. sepal width:"
   ]
  },
  {
   "cell_type": "code",
   "execution_count": null,
   "id": "5b233b85",
   "metadata": {},
   "outputs": [],
   "source": [
    "from sklearn.datasets import load_iris\n",
    "import pandas as pd\n",
    "\n",
    "# Load Iris dataset\n",
    "iris = load_iris()\n",
    "data = pd.DataFrame(iris.data, columns=iris.feature_names)\n",
    "data['species'] = iris.target\n",
    "\n",
    "# Scatter plot\n",
    "plt.scatter(data['sepal length (cm)'], data['sepal width (cm)'], c=data['species'], cmap='viridis')\n",
    "plt.title(\"Sepal Length vs. Width\")\n",
    "plt.xlabel(\"Sepal Length (cm)\")\n",
    "plt.ylabel(\"Sepal Width (cm)\")\n",
    "plt.show()"
   ]
  },
  {
   "cell_type": "markdown",
   "id": "72d5bc78",
   "metadata": {
    "lines_to_next_cell": 0
   },
   "source": [
    "---\n",
    "\n",
    "### 3. House Prices Dataset (Kaggle)\n",
    "The House Prices dataset is ideal for visualizing relationships between features and house prices.\n",
    "\n",
    "#### Access:\n",
    "[Kaggle House Prices Dataset](https://www.kaggle.com/c/house-prices-advanced-regression-techniques)\n",
    "\n",
    "#### Example Use:\n",
    "Histogram of house prices:"
   ]
  },
  {
   "cell_type": "code",
   "execution_count": null,
   "id": "c5b32559",
   "metadata": {},
   "outputs": [],
   "source": [
    "# Load dataset\n",
    "url = \"https://raw.githubusercontent.com/selva86/datasets/master/BostonHousing.csv\"\n",
    "data = pd.read_csv(url)\n",
    "\n",
    "# Histogram of house prices\n",
    "plt.hist(data['medv'], bins=30, color='green', edgecolor='black')\n",
    "plt.title(\"Distribution of House Prices\")\n",
    "plt.xlabel(\"Price\")\n",
    "plt.ylabel(\"Frequency\")\n",
    "plt.show()"
   ]
  }
 ],
 "metadata": {
  "jupytext": {
   "cell_metadata_filter": "-all",
   "main_language": "python",
   "notebook_metadata_filter": "-all"
  }
 },
 "nbformat": 4,
 "nbformat_minor": 5
}
